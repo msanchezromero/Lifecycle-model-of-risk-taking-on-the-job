{
 "cells": [
  {
   "cell_type": "markdown",
   "id": "ac1bb152",
   "metadata": {},
   "source": [
    "***\n",
    "\n",
    "<center>\n",
    "<br><span style=\"color: darkgray; font-size: 40pt\">A life-cycle model of risk-taking</span></br> \n",
    "<span style=\"color: darkgray; font-size: 40pt\">on the job</span>\n",
    "<br> </br>\n",
    "<font color='gray'>by Martin Kerndler, Alexia Prskawetz, Miguel Sánchez-Romero</font>\n",
    "</center>\n",
    "\n",
    "***"
   ]
  },
  {
   "cell_type": "markdown",
   "id": "e9692662-ca50-40c9-98c8-20a0ef51ff82",
   "metadata": {},
   "source": [
    "**Summary** \n",
    "\n",
    "*Individuals become more risk-averse with age, yet fatal work injuries rise with age. In this code we develop a life-cycle model that explains this pattern by showing that the declining value of life late in careers increases risk-taking. The model links wages, wealth, and mortality, and shows how pension reforms affect on-the-job mortality and risk behavior.*"
   ]
  },
  {
   "cell_type": "markdown",
   "id": "86bf3f6e-2331-42ea-8908-e31b0ca9c9aa",
   "metadata": {},
   "source": [
    "# Main computations"
   ]
  },
  {
   "cell_type": "code",
   "execution_count": null,
   "id": "0dc82320-08e3-4fe1-850f-35ab01a8d8ab",
   "metadata": {},
   "outputs": [],
   "source": [
    "for casescenario in range(1,16)     # All potential model scenarios\n",
    "\n",
    "    global CaseScenario = casescenario\n",
    "    global Model        = \"General\";\n",
    "    SampleSize          = 500;\n",
    "\n",
    "    include(\"../src/00_main.jl\");\n",
    "    \n",
    "    # ------------------------------------- Equilibrium -----------------------------------------\n",
    "    R0                  = 1.0143    # initial value of the interest rate\n",
    "    tau0                = 0.189618  # initial value of the contribution rate\n",
    "    \n",
    "    CM, YLM, YM, ASM, CSM, \n",
    "        SM, LM, INCM, VOLM, PopC, \n",
    "            ben, wages, zv, τs, Rs = fequilibrium_prices(R0,tau0,CaseScenario,SampleSize,ParU);\n",
    "    \n",
    "    # ---------------------------------- Database: Results --------------------------------------    \n",
    "    plt1, CSur_ojt      = file_plots(YLM,ben,CM,ASM,CSM,SM,VOLM,LM,CaseScenario,SampleSize,ParU)\n",
    "    \n",
    "    if (CaseScenario==1 ||CaseScenario==11) && (Model==\"General\")\n",
    "        display(plt1)\n",
    "    end\n",
    "    \n",
    "    df0=DatabaseGenerator(CM,YM,YLM,INCM,CSur_ojt,CSM,SM,ASM,VOLM,LM,\n",
    "                            τs,ben,CaseScenario,SampleSize,ParU)\n",
    "    \n",
    "    if CaseScenario==1 && (Model==\"General\")        \n",
    "        df1=filter(:Employment => n->n==1.0,df0)            \n",
    "        show(describe(df1),allrows=true,allcols=true)\n",
    "    end\n",
    "    \n",
    "    CSV.write(\"../results/Results_Sigma\"*string(ParU.σC)*\"_Lambda\"*string(ParU.λ)*\"_\"*Scenarios_Dict[CaseScenario]*\".csv\",df0)\n",
    "\n",
    "    ##################################### Value of Life ###########################################\n",
    "    VSL=sum(SM.*PopC.*VOLM.*(LM.==1.0),dims=1)./sum(SM.*PopC.*(LM.==1.0),dims=1)\n",
    "    display(mean(VSL))\n",
    "    pltVSL=boxplot(VSL'./1_000_000,\n",
    "    #    ylim=(11.0,13.0),\n",
    "        ylabel=\"Million US dollars\")\n",
    "    \n",
    "    if (CaseScenario==1 ||CaseScenario==11) && (Model==\"General\")        \n",
    "        display(pltVSL)\n",
    "    end\n",
    "    #=\n",
    "    savefig(pltVSL,\"20221115_VSL_Sigma\"*string(σCs)*\"_Lambda\"*string(λs)*\"_\"*Scenario[CaseScenario]*\".png\")\n",
    "    =#\n",
    "    \n",
    "    ################################# Unemployment rate ###########################################\n",
    "    Hs    = sum(sum(  (YM.*SM) .* (PopC./SampleSize),dims=2)) # Labor stock\n",
    "    Ks    = sum(sum( (ASM.*SM) .* (PopC./SampleSize),dims=2)) # Capital stock\n",
    "    \n",
    "    display([\"Unemployment rate:\" sum((LM.==0.0).*SM.*(PopC./SampleSize))/sum((LM.<2.0).*SM.*(PopC./SampleSize))])\n",
    "    display([\"Effective labor:\" Hs/1_000_000 \"Capital:\" Ks/1_000_000 \"GDP:\" fCobbDouglas(Ks,Hs,ParU.αY,ParU.δY)[3]/1_000_000])\n",
    "    display([\"Net Productivity:\" fCobbDouglas(Ks,Hs,ParU.αY,ParU.δY)[3]/sum(sum((LM.==1.0).*SM.*(PopC./SampleSize),dims=2))])\n",
    "\n",
    "end"
   ]
  },
  {
   "cell_type": "code",
   "execution_count": null,
   "id": "f61fa49c-f34d-4838-9769-adb43bdcb624",
   "metadata": {},
   "outputs": [],
   "source": [
    "global CaseScenario = 1\n",
    "global Model        = \"General\";\n",
    "SampleSize          = 500;\n",
    "\n",
    "include(\"../src/00_main.jl\");"
   ]
  },
  {
   "cell_type": "markdown",
   "id": "c65011d5-a93e-4774-9919-47dc08ace0a7",
   "metadata": {},
   "source": [
    "# Main Results"
   ]
  },
  {
   "cell_type": "code",
   "execution_count": null,
   "id": "fe6b7300-296d-407a-b874-06e0d3b7ecaa",
   "metadata": {},
   "outputs": [],
   "source": [
    "include(\"../src/08a_results_dataframe.jl\");"
   ]
  },
  {
   "cell_type": "code",
   "execution_count": null,
   "id": "7c80b6a5-1edf-4cef-ab0e-734bedc2f75e",
   "metadata": {},
   "outputs": [],
   "source": [
    "include(\"../src/08b_results_tables_and_figures.jl\");"
   ]
  },
  {
   "cell_type": "markdown",
   "id": "fe432c5f-97e0-4add-9f8a-84d5b27fc512",
   "metadata": {},
   "source": [
    "### Figure 4"
   ]
  },
  {
   "cell_type": "code",
   "execution_count": null,
   "id": "155269ce-448d-4dd6-8dc6-4572d43668b0",
   "metadata": {},
   "outputs": [],
   "source": [
    "f_results_figure4(dfT)"
   ]
  },
  {
   "cell_type": "markdown",
   "id": "be6deeae-4861-4aef-8eeb-0f04ce0978e2",
   "metadata": {},
   "source": [
    "### Figure 5"
   ]
  },
  {
   "cell_type": "code",
   "execution_count": null,
   "id": "e22e0643-7c42-40ea-a19a-cfa23214d306",
   "metadata": {},
   "outputs": [],
   "source": [
    "f_results_figure5(dfT)"
   ]
  },
  {
   "cell_type": "markdown",
   "id": "0e601239-22b7-4f47-9d71-79c239fd2fcd",
   "metadata": {},
   "source": [
    "### Figure 6"
   ]
  },
  {
   "cell_type": "code",
   "execution_count": null,
   "id": "e73cb37a-2bb4-4a44-a871-28fd5e60b0d3",
   "metadata": {},
   "outputs": [],
   "source": [
    "f_results_figure6(dfT)"
   ]
  },
  {
   "cell_type": "markdown",
   "id": "c2b193de-61ad-457e-b115-813a8b166eb2",
   "metadata": {},
   "source": [
    "### Figure 7"
   ]
  },
  {
   "cell_type": "code",
   "execution_count": null,
   "id": "7e2b11f8-7687-4274-9cf9-32d03f3ac65b",
   "metadata": {},
   "outputs": [],
   "source": [
    "f_results_figure7(dfT)"
   ]
  },
  {
   "cell_type": "markdown",
   "id": "44202545-5962-482f-95f8-d4e64391479a",
   "metadata": {},
   "source": [
    "### Table 2"
   ]
  },
  {
   "cell_type": "code",
   "execution_count": null,
   "id": "0fe99efc-dd4a-4f06-a6ce-b41814d7d361",
   "metadata": {},
   "outputs": [],
   "source": [
    "f_results_table2(dfT)"
   ]
  },
  {
   "cell_type": "markdown",
   "id": "c102a5f6-6443-46be-8cec-0a568145916d",
   "metadata": {},
   "source": [
    "### Table 3"
   ]
  },
  {
   "cell_type": "code",
   "execution_count": null,
   "id": "c158ffbd-ecb4-4795-836a-c55ebb621499",
   "metadata": {},
   "outputs": [],
   "source": [
    "f_results_table3(dfT)"
   ]
  },
  {
   "cell_type": "markdown",
   "id": "33d9b1d0-f1d2-4b6c-9681-065274b78b32",
   "metadata": {},
   "source": [
    "### Table 4"
   ]
  },
  {
   "cell_type": "code",
   "execution_count": null,
   "id": "78331a8b-b548-41ef-95aa-83c9cca83c2b",
   "metadata": {},
   "outputs": [],
   "source": [
    "f_results_table4(dfT)"
   ]
  },
  {
   "cell_type": "markdown",
   "id": "f39a8d7a-fb02-4daa-a556-b55a77fd66db",
   "metadata": {},
   "source": [
    "### Table 5"
   ]
  },
  {
   "cell_type": "code",
   "execution_count": null,
   "id": "57555df2-af0c-4f4c-a360-740261376121",
   "metadata": {},
   "outputs": [],
   "source": [
    "f_results_table5(dfT,ParU)"
   ]
  },
  {
   "cell_type": "markdown",
   "id": "cdd2ad16",
   "metadata": {},
   "source": [
    "***\n",
    "\n",
    "---\n",
    "\n",
    "***"
   ]
  }
 ],
 "metadata": {
  "@webio": {
   "lastCommId": null,
   "lastKernelId": null
  },
  "kernelspec": {
   "display_name": "Julia 1.10.5",
   "language": "julia",
   "name": "julia-1.10"
  },
  "language_info": {
   "file_extension": ".jl",
   "mimetype": "application/julia",
   "name": "julia",
   "version": "1.10.5"
  },
  "toc-autonumbering": true,
  "toc-showcode": false,
  "toc-showmarkdowntxt": false,
  "toc-showtags": false
 },
 "nbformat": 4,
 "nbformat_minor": 5
}
