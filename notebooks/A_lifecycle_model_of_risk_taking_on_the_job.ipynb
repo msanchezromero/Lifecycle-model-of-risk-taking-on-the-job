{
 "cells": [
  {
   "cell_type": "markdown",
   "id": "ac1bb152",
   "metadata": {},
   "source": [
    "***\n",
    "\n",
    "<center>\n",
    "<br><span style=\"color: darkgray; font-size: 40pt\">A life-cycle model of risk-taking</span></br> \n",
    "<span style=\"color: darkgray; font-size: 40pt\">on the job</span>\n",
    "<br> </br>\n",
    "<font color='gray'>by Martin Kerndler, Alexia Prskawetz, Miguel Sánchez-Romero</font>\n",
    "</center>\n",
    "\n",
    "***"
   ]
  },
  {
   "cell_type": "markdown",
   "id": "e9692662-ca50-40c9-98c8-20a0ef51ff82",
   "metadata": {},
   "source": [
    "**Summary** \n",
    "\n",
    "*Individuals become more risk-averse with age, yet fatal work injuries rise with age. In this code we develop a life-cycle model that explains this pattern by showing that the declining value of life late in careers increases risk-taking. The model links wages, wealth, and mortality, and shows how pension reforms affect on-the-job mortality and risk behavior.*"
   ]
  },
  {
   "cell_type": "markdown",
   "id": "86bf3f6e-2331-42ea-8908-e31b0ca9c9aa",
   "metadata": {},
   "source": [
    "# Main computations"
   ]
  },
  {
   "cell_type": "code",
   "execution_count": null,
   "id": "0dc82320-08e3-4fe1-850f-35ab01a8d8ab",
   "metadata": {},
   "outputs": [],
   "source": [
    "for casescenario in range(11,16)     # All potential model scenarios\n",
    "#for casescenario in range(1,16)     # All potential model scenarios or modify the range (see 01_dictionaries.jl)\n",
    "\n",
    "    global CaseScenario = casescenario\n",
    "    global Model        = \"General\";\n",
    "    SampleSize          = 500;\n",
    "\n",
    "    include(\"../src/00_main.jl\");\n",
    "    \n",
    "    # ------------------------------------- Equilibrium -----------------------------------------\n",
    "    R0                  = 1.0143    # initial value of the interest rate\n",
    "    tau0                = 0.189618  # initial value of the contribution rate\n",
    "    \n",
    "    CM, YLM, YM, ASM, CSM, \n",
    "        SM, LM, INCM, VOLM, PopC, \n",
    "            ben, wages, zv, τs, Rs = fequilibrium_prices(R0,tau0,CaseScenario,SampleSize,ParU);\n",
    "    \n",
    "    # ---------------------------------- Database: Results --------------------------------------    \n",
    "    plt1, CSur_ojt      = file_plots(YLM,ben,CM,ASM,CSM,SM,VOLM,LM,CaseScenario,SampleSize,ParU)\n",
    "    \n",
    "    if (CaseScenario==1 ||CaseScenario==11) && (Model==\"General\")\n",
    "        display(plt1)\n",
    "    end\n",
    "    \n",
    "    df0 = DatabaseGenerator(CM,YM,YLM,INCM,CSur_ojt,CSM,SM,ASM,VOLM,LM,\n",
    "                            τs,ben,CaseScenario,SampleSize,ParU)\n",
    "    \n",
    "    if CaseScenario==1 && (Model==\"General\")        \n",
    "        df1=filter(:Employment => n->n==1.0,df0)            \n",
    "        show(describe(df1),allrows=true,allcols=true)\n",
    "    end\n",
    "\n",
    "    ParM = mutable_struct(CaseScenario,SampleSize,ParU);\n",
    "    \n",
    "    CSV.write(\"../results/Results_Sigma\"*string(ParM.σC)*\"_Lambda\"*string(ParU.λ)*\"_\"*Scenarios_Dict[CaseScenario]*\".csv\",df0)\n",
    "\n",
    "    ##################################### Value of Life ###########################################\n",
    "    VSL=sum(SM.*PopC.*VOLM.*(LM.==1.0),dims=1)./sum(SM.*PopC.*(LM.==1.0),dims=1)\n",
    "    display(mean(VSL))\n",
    "    pltVSL=boxplot(VSL'./1_000_000,\n",
    "    #    ylim=(11.0,13.0),\n",
    "        ylabel=\"Million US dollars\")\n",
    "    \n",
    "    if (CaseScenario==1 ||CaseScenario==11) && (Model==\"General\")        \n",
    "        display(pltVSL)\n",
    "    end\n",
    "    #=\n",
    "    savefig(pltVSL,\"20221115_VSL_Sigma\"*string(σCs)*\"_Lambda\"*string(λs)*\"_\"*Scenario[CaseScenario]*\".png\")\n",
    "    =#\n",
    "    \n",
    "    ################################# Unemployment rate ###########################################\n",
    "    Hs    = sum(sum(  (YM.*SM) .* (PopC./SampleSize),dims=2)) # Labor stock\n",
    "    Ks    = sum(sum( (ASM.*SM) .* (PopC./SampleSize),dims=2)) # Capital stock\n",
    "    \n",
    "    display([\"Unemployment rate:\" sum((LM.==0.0).*SM.*(PopC./SampleSize))/sum((LM.<2.0).*SM.*(PopC./SampleSize))])\n",
    "    display([\"Effective labor:\" Hs/1_000_000 \"Capital:\" Ks/1_000_000 \"GDP:\" fCobbDouglas(Ks,Hs,ParU.αY,ParU.δY)[3]/1_000_000])\n",
    "    display([\"Net Productivity:\" fCobbDouglas(Ks,Hs,ParU.αY,ParU.δY)[3]/sum(sum((LM.==1.0).*SM.*(PopC./SampleSize),dims=2))])\n",
    "\n",
    "end"
   ]
  },
  {
   "cell_type": "code",
   "execution_count": 4,
   "id": "f61fa49c-f34d-4838-9769-adb43bdcb624",
   "metadata": {},
   "outputs": [
    {
     "data": {
      "text/plain": [
       "11"
      ]
     },
     "metadata": {},
     "output_type": "display_data"
    },
    {
     "data": {
      "text/plain": [
       "\"Number of processors: 4\""
      ]
     },
     "metadata": {},
     "output_type": "display_data"
    }
   ],
   "source": [
    "global CaseScenario = 11\n",
    "global Model        = \"General\";\n",
    "SampleSize          = 500;\n",
    "\n",
    "include(\"../src/00_main.jl\");"
   ]
  },
  {
   "cell_type": "markdown",
   "id": "c65011d5-a93e-4774-9919-47dc08ace0a7",
   "metadata": {},
   "source": [
    "# Main Results"
   ]
  },
  {
   "cell_type": "code",
   "execution_count": 6,
   "id": "fe6b7300-296d-407a-b874-06e0d3b7ecaa",
   "metadata": {},
   "outputs": [
    {
     "name": "stderr",
     "output_type": "stream",
     "text": [
      "\u001b[33m\u001b[1m┌ \u001b[22m\u001b[39m\u001b[33m\u001b[1mWarning: \u001b[22m\u001b[39mRCall.jl: \n",
      "\u001b[33m\u001b[1m│ \u001b[22m\u001b[39mAttaching package: ‘dplyr’\n",
      "\u001b[33m\u001b[1m│ \u001b[22m\u001b[39m\n",
      "\u001b[33m\u001b[1m│ \u001b[22m\u001b[39mThe following objects are masked from ‘package:stats’:\n",
      "\u001b[33m\u001b[1m│ \u001b[22m\u001b[39m\n",
      "\u001b[33m\u001b[1m│ \u001b[22m\u001b[39m    filter, lag\n",
      "\u001b[33m\u001b[1m│ \u001b[22m\u001b[39m\n",
      "\u001b[33m\u001b[1m│ \u001b[22m\u001b[39mThe following objects are masked from ‘package:base’:\n",
      "\u001b[33m\u001b[1m│ \u001b[22m\u001b[39m\n",
      "\u001b[33m\u001b[1m│ \u001b[22m\u001b[39m    intersect, setdiff, setequal, union\n",
      "\u001b[33m\u001b[1m│ \u001b[22m\u001b[39m\n",
      "\u001b[33m\u001b[1m└ \u001b[22m\u001b[39m\u001b[90m@ RCall ~/.julia/packages/RCall/WTNSB/src/io.jl:171\u001b[39m\n"
     ]
    }
   ],
   "source": [
    "include(\"../src/08a_results_dataframe.jl\");"
   ]
  },
  {
   "cell_type": "code",
   "execution_count": 7,
   "id": "7c80b6a5-1edf-4cef-ab0e-734bedc2f75e",
   "metadata": {},
   "outputs": [],
   "source": [
    "include(\"../src/08b_results_tables_and_figures.jl\");"
   ]
  },
  {
   "cell_type": "markdown",
   "id": "fe432c5f-97e0-4add-9f8a-84d5b27fc512",
   "metadata": {},
   "source": [
    "## Figure 4"
   ]
  },
  {
   "cell_type": "code",
   "execution_count": null,
   "id": "155269ce-448d-4dd6-8dc6-4572d43668b0",
   "metadata": {},
   "outputs": [],
   "source": [
    "f_results_figure4(dfT)"
   ]
  },
  {
   "cell_type": "markdown",
   "id": "be6deeae-4861-4aef-8eeb-0f04ce0978e2",
   "metadata": {},
   "source": [
    "## Figure 5"
   ]
  },
  {
   "cell_type": "code",
   "execution_count": null,
   "id": "e22e0643-7c42-40ea-a19a-cfa23214d306",
   "metadata": {},
   "outputs": [],
   "source": [
    "f_results_figure5(dfT)"
   ]
  },
  {
   "cell_type": "markdown",
   "id": "0e601239-22b7-4f47-9d71-79c239fd2fcd",
   "metadata": {},
   "source": [
    "## Figure 6"
   ]
  },
  {
   "cell_type": "code",
   "execution_count": null,
   "id": "e73cb37a-2bb4-4a44-a871-28fd5e60b0d3",
   "metadata": {},
   "outputs": [],
   "source": [
    "f_results_figure6(dfT)"
   ]
  },
  {
   "cell_type": "markdown",
   "id": "c2b193de-61ad-457e-b115-813a8b166eb2",
   "metadata": {},
   "source": [
    "## Figure 7"
   ]
  },
  {
   "cell_type": "code",
   "execution_count": null,
   "id": "7e2b11f8-7687-4274-9cf9-32d03f3ac65b",
   "metadata": {},
   "outputs": [],
   "source": [
    "f_results_figure7(dfT)"
   ]
  },
  {
   "cell_type": "markdown",
   "id": "73a55d41-c78c-4045-8bfc-db5bbf6cc76c",
   "metadata": {},
   "source": [
    "## Figure A4"
   ]
  },
  {
   "cell_type": "code",
   "execution_count": null,
   "id": "fdd36f0a-55e5-4be6-b96a-7bd437dacdf1",
   "metadata": {},
   "outputs": [],
   "source": [
    "f_results_figureA4(dfT)"
   ]
  },
  {
   "cell_type": "markdown",
   "id": "44202545-5962-482f-95f8-d4e64391479a",
   "metadata": {},
   "source": [
    "## Table 2"
   ]
  },
  {
   "cell_type": "code",
   "execution_count": null,
   "id": "0fe99efc-dd4a-4f06-a6ce-b41814d7d361",
   "metadata": {},
   "outputs": [],
   "source": [
    "f_results_table2(dfT)"
   ]
  },
  {
   "cell_type": "markdown",
   "id": "c102a5f6-6443-46be-8cec-0a568145916d",
   "metadata": {},
   "source": [
    "## Table 3"
   ]
  },
  {
   "cell_type": "code",
   "execution_count": null,
   "id": "c158ffbd-ecb4-4795-836a-c55ebb621499",
   "metadata": {},
   "outputs": [],
   "source": [
    "f_results_table3(dfT)"
   ]
  },
  {
   "cell_type": "markdown",
   "id": "33d9b1d0-f1d2-4b6c-9681-065274b78b32",
   "metadata": {},
   "source": [
    "## Table 4"
   ]
  },
  {
   "cell_type": "code",
   "execution_count": null,
   "id": "78331a8b-b548-41ef-95aa-83c9cca83c2b",
   "metadata": {},
   "outputs": [],
   "source": [
    "f_results_table4(dfT,SampleSize,ParU)"
   ]
  },
  {
   "cell_type": "markdown",
   "id": "f39a8d7a-fb02-4daa-a556-b55a77fd66db",
   "metadata": {},
   "source": [
    "## Table 5"
   ]
  },
  {
   "cell_type": "code",
   "execution_count": 12,
   "id": "57555df2-af0c-4f4c-a360-740261376121",
   "metadata": {},
   "outputs": [
    {
     "name": "stdout",
     "output_type": "stream",
     "text": [
      "\n",
      "The downloaded binary packages are in\n",
      "\t/var/folders/v5/xm52cckx1gv8j7gn1zlvt3x80000gn/T//RtmpoicaGd/downloaded_packages\n",
      "\n",
      "The downloaded binary packages are in\n",
      "\t/var/folders/v5/xm52cckx1gv8j7gn1zlvt3x80000gn/T//RtmpoicaGd/downloaded_packages\n"
     ]
    },
    {
     "name": "stderr",
     "output_type": "stream",
     "text": [
      "\u001b[33m\u001b[1m┌ \u001b[22m\u001b[39m\u001b[33m\u001b[1mWarning: \u001b[22m\u001b[39mRCall.jl: trying URL 'https://cloud.r-project.org/bin/macosx/big-sur-arm64/contrib/4.5/stargazer_5.2.3.tgz'\n",
      "\u001b[33m\u001b[1m│ \u001b[22m\u001b[39mContent type 'application/x-gzip' length 617361 bytes (602 KB)\n",
      "\u001b[33m\u001b[1m│ \u001b[22m\u001b[39m==================================================\n",
      "\u001b[33m\u001b[1m│ \u001b[22m\u001b[39mdownloaded 602 KB\n",
      "\u001b[33m\u001b[1m│ \u001b[22m\u001b[39m\n",
      "\u001b[33m\u001b[1m│ \u001b[22m\u001b[39mtrying URL 'https://cloud.r-project.org/bin/macosx/big-sur-arm64/contrib/4.5/kableExtra_1.4.0.tgz'\n",
      "\u001b[33m\u001b[1m│ \u001b[22m\u001b[39mContent type 'application/x-gzip' length 2045129 bytes (2.0 MB)\n",
      "\u001b[33m\u001b[1m│ \u001b[22m\u001b[39m==================================================\n",
      "\u001b[33m\u001b[1m│ \u001b[22m\u001b[39mdownloaded 2.0 MB\n",
      "\u001b[33m\u001b[1m│ \u001b[22m\u001b[39m\n",
      "\u001b[33m\u001b[1m└ \u001b[22m\u001b[39m\u001b[90m@ RCall ~/.julia/packages/RCall/WTNSB/src/io.jl:171\u001b[39m\n",
      "\u001b[33m\u001b[1m┌ \u001b[22m\u001b[39m\u001b[33m\u001b[1mWarning: \u001b[22m\u001b[39mRCall.jl: \n",
      "\u001b[33m\u001b[1m│ \u001b[22m\u001b[39mPlease cite as: \n",
      "\u001b[33m\u001b[1m│ \u001b[22m\u001b[39m\n",
      "\u001b[33m\u001b[1m│ \u001b[22m\u001b[39m Hlavac, Marek (2022). stargazer: Well-Formatted Regression and Summary Statistics Tables.\n",
      "\u001b[33m\u001b[1m│ \u001b[22m\u001b[39m R package version 5.2.3. https://CRAN.R-project.org/package=stargazer \n",
      "\u001b[33m\u001b[1m│ \u001b[22m\u001b[39m\n",
      "\u001b[33m\u001b[1m└ \u001b[22m\u001b[39m\u001b[90m@ RCall ~/.julia/packages/RCall/WTNSB/src/io.jl:171\u001b[39m\n",
      "\u001b[33m\u001b[1m┌ \u001b[22m\u001b[39m\u001b[33m\u001b[1mWarning: \u001b[22m\u001b[39mRCall.jl: `summarise()` has grouped output by 'Simu', 'Productivity'. You can override\n",
      "\u001b[33m\u001b[1m│ \u001b[22m\u001b[39musing the `.groups` argument.\n",
      "\u001b[33m\u001b[1m└ \u001b[22m\u001b[39m\u001b[90m@ RCall ~/.julia/packages/RCall/WTNSB/src/io.jl:171\u001b[39m\n"
     ]
    },
    {
     "data": {
      "text/plain": [
       "RObject{StrSxp}\n",
       "\n",
       "\n",
       "Table: Table 5: Welfare effects of pension reforms and ageing by exact age. Ref=Benchmark (mean values, in %)\n",
       "\n",
       " Productivity   Age2   Exp5    Exp6    Exp7    Exp8\n",
       "-------------  -----  -----  ------  ------  ------\n",
       "     644.1682     20      0    5.67   -3.16   31.74\n",
       "     644.1682     30      0    6.00   -1.79   36.35\n",
       "     644.1682     40      0    6.26   -0.43   41.88\n",
       "     644.1682     50      0    6.41    0.94   48.30\n",
       "     644.1682     60      0    6.29    2.33   55.43\n",
       "     805.2103     20      0   11.48   -0.43   36.18\n",
       "     805.2103     30      0   11.95    0.89   40.81\n",
       "     805.2103     40      0   12.42    2.20   46.31\n",
       "     805.2103     50      0   12.93    3.53   52.65\n",
       "     805.2103     60      0   13.48    4.88   59.60\n"
      ]
     },
     "execution_count": 12,
     "metadata": {},
     "output_type": "execute_result"
    }
   ],
   "source": [
    "f_results_table5(dfT,SampleSize,ParU)"
   ]
  },
  {
   "cell_type": "markdown",
   "id": "27ff94cc-60c5-404f-9405-1603931fb1e9",
   "metadata": {},
   "source": [
    "## Table A3"
   ]
  },
  {
   "cell_type": "code",
   "execution_count": 9,
   "id": "f53a5fbd-3564-4102-b4f0-0349e6deee8c",
   "metadata": {},
   "outputs": [
    {
     "name": "stdout",
     "output_type": "stream",
     "text": [
      "\n",
      "The downloaded binary packages are in\n",
      "\t/var/folders/v5/xm52cckx1gv8j7gn1zlvt3x80000gn/T//RtmpoicaGd/downloaded_packages\n"
     ]
    },
    {
     "name": "stderr",
     "output_type": "stream",
     "text": [
      "\u001b[33m\u001b[1m┌ \u001b[22m\u001b[39m\u001b[33m\u001b[1mWarning: \u001b[22m\u001b[39mRCall.jl: trying URL 'https://cloud.r-project.org/bin/macosx/big-sur-arm64/contrib/4.5/radiant.data_1.6.7.tgz'\n",
      "\u001b[33m\u001b[1m│ \u001b[22m\u001b[39mContent type 'application/x-gzip' length 2200125 bytes (2.1 MB)\n",
      "\u001b[33m\u001b[1m│ \u001b[22m\u001b[39m==================================================\n",
      "\u001b[33m\u001b[1m│ \u001b[22m\u001b[39mdownloaded 2.1 MB\n",
      "\u001b[33m\u001b[1m│ \u001b[22m\u001b[39m\n",
      "\u001b[33m\u001b[1m└ \u001b[22m\u001b[39m\u001b[90m@ RCall ~/.julia/packages/RCall/WTNSB/src/io.jl:171\u001b[39m\n",
      "\u001b[33m\u001b[1m┌ \u001b[22m\u001b[39m\u001b[33m\u001b[1mWarning: \u001b[22m\u001b[39mRCall.jl: \n",
      "\u001b[33m\u001b[1m│ \u001b[22m\u001b[39mAttaching package: ‘kableExtra’\n",
      "\u001b[33m\u001b[1m│ \u001b[22m\u001b[39m\n",
      "\u001b[33m\u001b[1m│ \u001b[22m\u001b[39mThe following object is masked from ‘package:dplyr’:\n",
      "\u001b[33m\u001b[1m│ \u001b[22m\u001b[39m\n",
      "\u001b[33m\u001b[1m│ \u001b[22m\u001b[39m    group_rows\n",
      "\u001b[33m\u001b[1m│ \u001b[22m\u001b[39m\n",
      "\u001b[33m\u001b[1m└ \u001b[22m\u001b[39m\u001b[90m@ RCall ~/.julia/packages/RCall/WTNSB/src/io.jl:171\u001b[39m\n"
     ]
    },
    {
     "data": {
      "text/plain": [
       "RObject{StrSxp}\n",
       "\n",
       "\n",
       "Table: Table A3: Descriptive statistics of four alternative simulations (Period: Month)\n",
       "\n",
       "                 Mean        SD           Mean        SD           Mean       SD           Mean        SD\n",
       "------  -------------  --------  -------------  --------  -------------  -------  -------------  --------\n",
       "1.mT     2.842000e+01     27.68   2.855000e+01     27.85   2.842000e+01    27.67   2.440000e+01     23.68\n",
       "10.r     1.400000e-01        NA   1.500000e-01        NA   1.600000e-01       NA   1.300000e-01        NA\n",
       "2.m      2.600000e-01      0.05   2.500000e-01      0.04   2.500000e-01     0.04   2.500000e-01      0.05\n",
       "3.mu     3.110000e+00      0.58   3.000000e+00      0.52   3.030000e+00     0.46   3.030000e+00      0.56\n",
       "4.w      2.875000e+03    293.00   2.846000e+03    289.00   2.812000e+03   286.00   2.891000e+03    294.00\n",
       "5.y      4.357000e+03    444.00   4.312000e+03    438.00   4.261000e+03   433.00   4.380000e+03    446.00\n",
       "6.c      1.843000e+03    296.00   1.990000e+03    349.00   1.769000e+03   341.00   1.795000e+03    275.00\n",
       "7.a      1.440000e+02    101.00   1.460000e+02    100.00   1.350000e+02    91.00   1.450000e+02    102.00\n",
       "8.vol    1.175800e+04   1347.00   1.285400e+04   1283.00   1.110900e+04   896.00   1.192100e+04   1345.00\n",
       "9.t      1.975611e-01        NA   1.452948e-01        NA   2.397818e-01       NA   2.130245e-01        NA\n"
      ]
     },
     "execution_count": 9,
     "metadata": {},
     "output_type": "execute_result"
    }
   ],
   "source": [
    "f_results_tableA3(dfT)"
   ]
  },
  {
   "cell_type": "markdown",
   "id": "6908be2f-8660-4a3d-a9cf-1e3a984a578b",
   "metadata": {},
   "source": [
    "## Table A7"
   ]
  },
  {
   "cell_type": "code",
   "execution_count": 11,
   "id": "a4ef66fd-4c23-4d5b-954d-d2bb92463525",
   "metadata": {},
   "outputs": [
    {
     "name": "stderr",
     "output_type": "stream",
     "text": [
      "\u001b[33m\u001b[1m┌ \u001b[22m\u001b[39m\u001b[33m\u001b[1mWarning: \u001b[22m\u001b[39mRCall.jl: `summarise()` has grouped output by 'Simu'. You can override using the\n",
      "\u001b[33m\u001b[1m│ \u001b[22m\u001b[39m`.groups` argument.\n",
      "\u001b[33m\u001b[1m└ \u001b[22m\u001b[39m\u001b[90m@ RCall ~/.julia/packages/RCall/WTNSB/src/io.jl:171\u001b[39m\n",
      "\u001b[33m\u001b[1m┌ \u001b[22m\u001b[39m\u001b[33m\u001b[1mWarning: \u001b[22m\u001b[39mRCall.jl: `summarise()` has grouped output by 'Simu'. You can override using the\n",
      "\u001b[33m\u001b[1m│ \u001b[22m\u001b[39m`.groups` argument.\n",
      "\u001b[33m\u001b[1m└ \u001b[22m\u001b[39m\u001b[90m@ RCall ~/.julia/packages/RCall/WTNSB/src/io.jl:171\u001b[39m\n",
      "\u001b[33m\u001b[1m┌ \u001b[22m\u001b[39m\u001b[33m\u001b[1mWarning: \u001b[22m\u001b[39mRCall.jl: Adding missing grouping variables: `Simu`\n",
      "\u001b[33m\u001b[1m│ \u001b[22m\u001b[39mAdding missing grouping variables: `Simu`\n",
      "\u001b[33m\u001b[1m│ \u001b[22m\u001b[39mNew names:\n",
      "\u001b[33m\u001b[1m│ \u001b[22m\u001b[39m• `Simu` -> `Simu...1`\n",
      "\u001b[33m\u001b[1m│ \u001b[22m\u001b[39m• `Mean` -> `Mean...3`\n",
      "\u001b[33m\u001b[1m│ \u001b[22m\u001b[39m• `SD` -> `SD...4`\n",
      "\u001b[33m\u001b[1m│ \u001b[22m\u001b[39m• `Simu` -> `Simu...5`\n",
      "\u001b[33m\u001b[1m│ \u001b[22m\u001b[39m• `Mean` -> `Mean...6`\n",
      "\u001b[33m\u001b[1m│ \u001b[22m\u001b[39m• `SD` -> `SD...7`\n",
      "\u001b[33m\u001b[1m└ \u001b[22m\u001b[39m\u001b[90m@ RCall ~/.julia/packages/RCall/WTNSB/src/io.jl:171\u001b[39m\n"
     ]
    },
    {
     "data": {
      "text/plain": [
       "RObject{StrSxp}\n",
       "\n",
       "\n",
       "Table: Table A7: Descriptive statistics of Experiment 5 by skill group (Period: Month)\n",
       "\n",
       "                             Mean        SD                       Mean        SD\n",
       "----------  ------  -------------  --------  ----------  -------------  --------\n",
       "Benchmark   1.mT       28.5300000     27.68  Benchmark    2.840000e+01     27.72\n",
       "Benchmark   10.r        0.1400000        NA  Benchmark    1.400000e-01        NA\n",
       "Benchmark   2.m         0.4200000      0.07  Benchmark    4.000000e-02      0.01\n",
       "Benchmark   3.mu        5.0500000      0.88  Benchmark    5.400000e-01      0.11\n",
       "Benchmark   4.w      2511.0000000    232.00  Benchmark    3.804000e+03    494.00\n",
       "Benchmark   5.y      3805.0000000    352.00  Benchmark    5.763000e+03    748.00\n",
       "Benchmark   6.c      1638.0000000    268.00  Benchmark    2.385000e+03    391.00\n",
       "Benchmark   7.a       122.0000000     83.00  Benchmark    2.020000e+02    152.00\n",
       "Benchmark   8.vol    9048.0000000   1031.00  Benchmark    1.423300e+04   1660.00\n",
       "Benchmark   9.t         0.1972255        NA  Benchmark    1.972255e-01        NA\n",
       "Exp1        1.mT       28.6600000     27.86  Exp1         2.853000e+01     27.90\n",
       "Exp1        10.r        0.1400000        NA  Exp1         1.400000e-01        NA\n",
       "Exp1        2.m         0.4100000      0.07  Exp1         4.000000e-02      0.01\n",
       "Exp1        3.mu        4.9300000      0.86  Exp1         5.100000e-01      0.08\n",
       "Exp1        4.w      2460.0000000    253.00  Exp1         3.857000e+03    385.00\n",
       "Exp1        5.y      3727.0000000    383.00  Exp1         5.844000e+03    583.00\n",
       "Exp1        6.c      1738.0000000    304.00  Exp1         2.676000e+03    470.00\n",
       "Exp1        7.a       119.0000000     81.00  Exp1         2.180000e+02    150.00\n",
       "Exp1        8.vol    9679.0000000    993.00  Exp1         1.628300e+04   1710.00\n",
       "Exp1        9.t         0.1449715        NA  Exp1         1.449715e-01        NA\n",
       "Exp2        1.mT       28.5200000     27.67  Exp2         2.840000e+01     27.72\n",
       "Exp2        10.r        0.1600000        NA  Exp2         1.600000e-01        NA\n",
       "Exp2        2.m         0.4100000      0.06  Exp2         4.000000e-02      0.01\n",
       "Exp2        3.mu        4.9100000      0.76  Exp2         5.200000e-01      0.08\n",
       "Exp2        4.w      2429.0000000    249.00  Exp2         3.809000e+03    380.00\n",
       "Exp2        5.y      3680.0000000    377.00  Exp2         5.771000e+03    576.00\n",
       "Exp2        6.c      1562.0000000    302.00  Exp2         2.337000e+03    453.00\n",
       "Exp2        7.a       106.0000000     70.00  Exp2         2.120000e+02    144.00\n",
       "Exp2        8.vol    8496.0000000    700.00  Exp2         1.380800e+04   1177.00\n",
       "Exp2        9.t         0.2394338        NA  Exp2         2.394338e-01        NA\n",
       "Exp3        1.mT       24.5100000     23.69  Exp3         2.435000e+01     23.71\n",
       "Exp3        10.r        0.1300000        NA  Exp3         1.300000e-01        NA\n",
       "Exp3        2.m         0.4100000      0.08  Exp3         4.000000e-02      0.01\n",
       "Exp3        3.mu        4.9300000      0.91  Exp3         5.200000e-01      0.09\n",
       "Exp3        4.w      2494.0000000    256.00  Exp3         3.910000e+03    390.00\n",
       "Exp3        5.y      3778.0000000    388.00  Exp3         5.924000e+03    591.00\n",
       "Exp3        6.c      1581.0000000    246.00  Exp3         2.375000e+03    370.00\n",
       "Exp3        7.a       115.0000000     81.00  Exp3         2.260000e+02    158.00\n",
       "Exp3        8.vol    9077.0000000   1024.00  Exp3         1.482300e+04   1714.00\n",
       "Exp3        9.t         0.2126870        NA  Exp3         2.126870e-01        NA\n"
      ]
     },
     "execution_count": 11,
     "metadata": {},
     "output_type": "execute_result"
    }
   ],
   "source": [
    "f_results_tableA7(dfT)"
   ]
  },
  {
   "cell_type": "code",
   "execution_count": null,
   "id": "b5aa3ee1-cb14-4bf8-8624-6af5dc5371f6",
   "metadata": {},
   "outputs": [],
   "source": []
  },
  {
   "cell_type": "markdown",
   "id": "cdd2ad16",
   "metadata": {},
   "source": [
    "***\n",
    "\n",
    "---\n",
    "\n",
    "***"
   ]
  }
 ],
 "metadata": {
  "@webio": {
   "lastCommId": null,
   "lastKernelId": null
  },
  "kernelspec": {
   "display_name": "Julia 1.10.5",
   "language": "julia",
   "name": "julia-1.10"
  },
  "language_info": {
   "file_extension": ".jl",
   "mimetype": "application/julia",
   "name": "julia",
   "version": "1.10.5"
  },
  "toc-autonumbering": true,
  "toc-showcode": false,
  "toc-showmarkdowntxt": false,
  "toc-showtags": false
 },
 "nbformat": 4,
 "nbformat_minor": 5
}
